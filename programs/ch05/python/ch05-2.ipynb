{
 "cells": [
  {
   "cell_type": "markdown",
   "metadata": {},
   "source": [
    "# Words Sequences\n",
    "Author: Pierre Nugues"
   ]
  },
  {
   "cell_type": "markdown",
   "metadata": {},
   "source": [
    "# Imports"
   ]
  },
  {
   "cell_type": "code",
   "execution_count": null,
   "metadata": {},
   "outputs": [],
   "source": [
    "import math\n",
    "import regex as re\n",
    "import sys"
   ]
  },
  {
   "cell_type": "markdown",
   "metadata": {},
   "source": [
    "## Reading a corpus"
   ]
  },
  {
   "cell_type": "code",
   "execution_count": null,
   "metadata": {},
   "outputs": [],
   "source": [
    "file_name = '../../corpus/Selma.txt'\n",
    "text = open(file_name).read().strip()\n",
    "text[:50]"
   ]
  },
  {
   "cell_type": "markdown",
   "metadata": {},
   "source": [
    "## The tokenizer"
   ]
  },
  {
   "cell_type": "code",
   "execution_count": null,
   "metadata": {},
   "outputs": [],
   "source": [
    "def tokenize(text):\n",
    "    words = re.findall('\\p{L}+', text)\n",
    "    return words"
   ]
  },
  {
   "cell_type": "markdown",
   "metadata": {},
   "source": [
    "## Unigrams"
   ]
  },
  {
   "cell_type": "markdown",
   "metadata": {},
   "source": [
    "A function to count the words"
   ]
  },
  {
   "cell_type": "code",
   "execution_count": null,
   "metadata": {},
   "outputs": [],
   "source": [
    "def count_unigrams(words):\n",
    "    frequency = {}\n",
    "    for word in words:\n",
    "        if word in frequency:\n",
    "            frequency[word] += 1\n",
    "        else:\n",
    "            frequency[word] = 1\n",
    "    return frequency"
   ]
  },
  {
   "cell_type": "markdown",
   "metadata": {},
   "source": [
    "We analyze Selma Lagerlöf"
   ]
  },
  {
   "cell_type": "code",
   "execution_count": null,
   "metadata": {},
   "outputs": [],
   "source": [
    "words = tokenize(text.lower())\n",
    "frequency = count_unigrams(words)\n",
    "for word in sorted(frequency.keys(), key=frequency.get, reverse=True)[:15]:\n",
    "    print(word, '\\t', frequency[word])"
   ]
  },
  {
   "cell_type": "markdown",
   "metadata": {},
   "source": [
    "## Bigrams"
   ]
  },
  {
   "cell_type": "markdown",
   "metadata": {},
   "source": [
    "We can extend the counts to pairs of words"
   ]
  },
  {
   "cell_type": "code",
   "execution_count": null,
   "metadata": {},
   "outputs": [],
   "source": [
    "def count_bigrams(words):\n",
    "    bigrams = [tuple(words[idx:idx + 2])\n",
    "               for idx in range(len(words) - 1)]\n",
    "    frequencies = {}\n",
    "    for bigram in bigrams:\n",
    "        if bigram in frequencies:\n",
    "            frequencies[bigram] += 1\n",
    "        else:\n",
    "            frequencies[bigram] = 1\n",
    "    return frequencies"
   ]
  },
  {
   "cell_type": "code",
   "execution_count": null,
   "metadata": {},
   "outputs": [],
   "source": [
    "words = tokenize(text.lower())\n",
    "frequency_bigrams = count_bigrams(words)\n",
    "for bigram in sorted(frequency_bigrams.keys(), key=frequency_bigrams.get, reverse=True)[:15]:\n",
    "    print(bigram, '\\t', frequency_bigrams[bigram])"
   ]
  },
  {
   "cell_type": "markdown",
   "metadata": {},
   "source": [
    "## Trigrams"
   ]
  },
  {
   "cell_type": "code",
   "execution_count": null,
   "metadata": {},
   "outputs": [],
   "source": [
    "def count_trigrams(words):\n",
    "    trigrams = [tuple(words[idx:idx + 3])\n",
    "                for idx in range(len(words) - 2)]\n",
    "    frequencies = {}\n",
    "    for trigram in trigrams:\n",
    "        if trigram in frequencies:\n",
    "            frequencies[trigram] += 1\n",
    "        else:\n",
    "            frequencies[trigram] = 1\n",
    "    return frequencies"
   ]
  },
  {
   "cell_type": "code",
   "execution_count": null,
   "metadata": {},
   "outputs": [],
   "source": [
    "words = tokenize(text.lower())\n",
    "frequency_trigrams = count_trigrams(words)\n",
    "for trigram in sorted(frequency_trigrams.keys(), key=frequency_trigrams.get, reverse=True)[:15]:\n",
    "    print(trigram, '\\t', frequency_trigrams[trigram])"
   ]
  },
  {
   "cell_type": "markdown",
   "metadata": {},
   "source": [
    "## N-grams"
   ]
  },
  {
   "cell_type": "code",
   "execution_count": null,
   "metadata": {},
   "outputs": [],
   "source": [
    "def count_ngrams(words, n):\n",
    "    ngrams = [tuple(words[idx:idx + n])\n",
    "              for idx in range(len(words) - n + 1)]\n",
    "    # \"\\t\".join(words[idx:idx + n])\n",
    "    frequencies = {}\n",
    "    for ngram in ngrams:\n",
    "        if ngram in frequencies:\n",
    "            frequencies[ngram] += 1\n",
    "        else:\n",
    "            frequencies[ngram] = 1\n",
    "    return frequencies"
   ]
  },
  {
   "cell_type": "code",
   "execution_count": null,
   "metadata": {},
   "outputs": [],
   "source": [
    "N = 10"
   ]
  },
  {
   "cell_type": "code",
   "execution_count": null,
   "metadata": {},
   "outputs": [],
   "source": [
    "words = tokenize(text.lower())\n",
    "frequency_ngrams = count_ngrams(words, N)\n",
    "for ngram in sorted(frequency_ngrams.keys(), key=frequency_ngrams.get, reverse=True)[:15]:\n",
    "    print(ngram, '\\t', frequency_ngrams[ngram])"
   ]
  },
  {
   "cell_type": "markdown",
   "metadata": {},
   "source": [
    "## Cooccurrence measures"
   ]
  },
  {
   "cell_type": "markdown",
   "metadata": {},
   "source": [
    "In all the computations, we need this"
   ]
  },
  {
   "cell_type": "code",
   "execution_count": null,
   "metadata": {},
   "outputs": [],
   "source": [
    "frequency = count_unigrams(words)\n",
    "frequency_bigrams = count_bigrams(words)"
   ]
  },
  {
   "cell_type": "markdown",
   "metadata": {},
   "source": [
    "### Mutual information"
   ]
  },
  {
   "cell_type": "code",
   "execution_count": null,
   "metadata": {},
   "outputs": [],
   "source": [
    "def mutual_info(words, freq_unigrams, freq_bigrams):\n",
    "    mi = {}\n",
    "    factor = len(words) * len(words) / (len(words) - 1)\n",
    "    for bigram in freq_bigrams:\n",
    "        mi[bigram] = (\n",
    "            math.log(factor * freq_bigrams[bigram] /\n",
    "                     (freq_unigrams[bigram[0]] *\n",
    "                      freq_unigrams[bigram[1]]), 2))\n",
    "    return mi"
   ]
  },
  {
   "cell_type": "code",
   "execution_count": null,
   "metadata": {},
   "outputs": [],
   "source": [
    "mi = mutual_info(words, frequency, frequency_bigrams)"
   ]
  },
  {
   "cell_type": "markdown",
   "metadata": {},
   "source": [
    "Mutual information is highly biased toward low-frequency words"
   ]
  },
  {
   "cell_type": "code",
   "execution_count": null,
   "metadata": {},
   "outputs": [],
   "source": [
    "cutoff = 5\n",
    "filtered_mi = {k: v for k, v in mi.items() if v >= cutoff}"
   ]
  },
  {
   "cell_type": "code",
   "execution_count": null,
   "metadata": {},
   "outputs": [],
   "source": [
    "for bigram in sorted(filtered_mi.keys(), key=filtered_mi.get, reverse=True)[:15]:\n",
    "    print(bigram, '\\t',\n",
    "          frequency[bigram[0]], '\\t',\n",
    "          frequency[bigram[1]], '\\t',\n",
    "          frequency_bigrams[bigram], '\\t',\n",
    "          filtered_mi[bigram])"
   ]
  },
  {
   "cell_type": "markdown",
   "metadata": {},
   "source": [
    "### Likelihood ratio"
   ]
  },
  {
   "cell_type": "code",
   "execution_count": null,
   "metadata": {},
   "outputs": [],
   "source": [
    "def likelihood_ratio(words, freq_unigrams, freq_bigrams):\n",
    "    lr = {}\n",
    "    for bigram in freq_bigrams:\n",
    "        p = freq_unigrams[bigram[1]] / len(words)\n",
    "        p1 = freq_bigrams[bigram] / freq_unigrams[bigram[0]]\n",
    "        p2 = ((freq_unigrams[bigram[1]] - freq_bigrams[bigram])\n",
    "              / (len(words) - freq_unigrams[bigram[0]]))\n",
    "        if p1 != 1.0 and p2 != 0.0:\n",
    "            lr[bigram] = 2.0 * (\n",
    "                log_f(freq_bigrams[bigram],\n",
    "                      freq_unigrams[bigram[0]], p1) +\n",
    "                log_f(freq_unigrams[bigram[1]] -\n",
    "                      freq_bigrams[bigram],\n",
    "                      len(words) - freq_unigrams[bigram[0]], p2) -\n",
    "                log_f(freq_bigrams[bigram],\n",
    "                      freq_unigrams[bigram[0]], p) -\n",
    "                log_f(freq_unigrams[bigram[1]] -\n",
    "                      freq_bigrams[bigram],\n",
    "                      len(words) - freq_unigrams[bigram[0]], p))\n",
    "    return lr\n",
    "\n",
    "\n",
    "def log_f(k, N, p):\n",
    "    return k * math.log(p) + (N - k) * math.log(1 - p)"
   ]
  },
  {
   "cell_type": "code",
   "execution_count": null,
   "metadata": {},
   "outputs": [],
   "source": [
    "lr = likelihood_ratio(words, frequency, frequency_bigrams)\n",
    "\n",
    "for bigram in sorted(lr, key=ts.get, reverse=True)[:15]:\n",
    "    print(bigram, \"\\t\", frequency[bigram[0]], \"\\t\", frequency[bigram[1]], \"\\t\",\n",
    "          frequency_bigrams[bigram], '\\t', lr[bigram])"
   ]
  },
  {
   "cell_type": "markdown",
   "metadata": {},
   "source": [
    "### T-scores"
   ]
  },
  {
   "cell_type": "code",
   "execution_count": null,
   "metadata": {},
   "outputs": [],
   "source": [
    "def t_scores(words, freq_unigrams, freq_bigrams):\n",
    "    ts = {}\n",
    "    for bigram in freq_bigrams:\n",
    "        ts[bigram] = ((freq_bigrams[bigram] -\n",
    "                      freq_unigrams[bigram[0]] *\n",
    "                      freq_unigrams[bigram[1]] /\n",
    "                      len(words)) /\n",
    "                      math.sqrt(freq_bigrams[bigram]))\n",
    "    return ts"
   ]
  },
  {
   "cell_type": "code",
   "execution_count": null,
   "metadata": {},
   "outputs": [],
   "source": [
    "ts = t_scores(words, frequency, frequency_bigrams)\n",
    "\n",
    "for bigram in sorted(ts, key=ts.get, reverse=True)[:15]:\n",
    "    print(bigram, \"\\t\", frequency[bigram[0]], \"\\t\", frequency[bigram[1]], \"\\t\",\n",
    "          frequency_bigrams[bigram], '\\t', ts[bigram])"
   ]
  }
 ],
 "metadata": {
  "kernelspec": {
   "display_name": "Python 3",
   "language": "python",
   "name": "python3"
  },
  "language_info": {
   "codemirror_mode": {
    "name": "ipython",
    "version": 3
   },
   "file_extension": ".py",
   "mimetype": "text/x-python",
   "name": "python",
   "nbconvert_exporter": "python",
   "pygments_lexer": "ipython3",
   "version": "3.8.3"
  }
 },
 "nbformat": 4,
 "nbformat_minor": 4
}
